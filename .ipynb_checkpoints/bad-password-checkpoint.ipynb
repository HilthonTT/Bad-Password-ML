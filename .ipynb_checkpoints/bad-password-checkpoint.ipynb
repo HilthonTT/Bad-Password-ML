{
 "cells": [
  {
   "cell_type": "markdown",
   "id": "e4e4c6e3-9dcb-41b8-a54a-656f24e019e9",
   "metadata": {},
   "source": [
    "# 1. Install Dependencies and Setup"
   ]
  },
  {
   "cell_type": "code",
   "execution_count": null,
   "id": "b56e48ff-14ad-4ca1-9a56-9937194bf413",
   "metadata": {
    "tags": []
   },
   "outputs": [],
   "source": [
    "!pip install tensorflow"
   ]
  },
  {
   "cell_type": "code",
   "execution_count": 1,
   "id": "520b8beb-3753-4aeb-802c-c98cd529f296",
   "metadata": {
    "tags": []
   },
   "outputs": [],
   "source": [
    "import tensorflow as tf\n",
    "import os"
   ]
  },
  {
   "cell_type": "markdown",
   "id": "29f0340c-f20a-4f58-9926-4b69cbb2d946",
   "metadata": {},
   "source": [
    "## 1.1 Prevent OOM Errors"
   ]
  },
  {
   "cell_type": "code",
   "execution_count": 2,
   "id": "e2812bef-af94-4cc7-aae2-39cda37f20da",
   "metadata": {
    "tags": []
   },
   "outputs": [],
   "source": [
    "gpus = tf.config.experimental.list_physical_devices('GPU')\n",
    "for gpu in gpus:\n",
    "    tf.config.experimental.set_memory_growth(gpu,  True)"
   ]
  },
  {
   "cell_type": "markdown",
   "id": "23b6ea51-ee8c-43f1-9f66-900f55d36139",
   "metadata": {},
   "source": [
    "# 2. Load Data"
   ]
  },
  {
   "cell_type": "code",
   "execution_count": 3,
   "id": "aceaff9c-d63a-4630-b19e-d9f126da1064",
   "metadata": {
    "tags": []
   },
   "outputs": [],
   "source": [
    "password_path = os.path.join('data', 'password-list-1.txt')\n",
    "password_dup_path = os.path.join('data', 'password-list-dup.txt')"
   ]
  },
  {
   "cell_type": "code",
   "execution_count": 16,
   "id": "750ab6a1-4219-4650-a7b6-9692494961e5",
   "metadata": {
    "tags": []
   },
   "outputs": [],
   "source": [
    "def read_file(file_path):\n",
    "    with tf.io.gfile.GFile(file_path, 'r') as file:\n",
    "        content = file.read()\n",
    "    return content.split()"
   ]
  },
  {
   "cell_type": "code",
   "execution_count": 20,
   "id": "2c025040-c523-4551-96b4-cf388353f461",
   "metadata": {
    "tags": []
   },
   "outputs": [],
   "source": [
    "password_content = read_file(password_path)\n",
    "password_dup_content = read_file(password_dup_path)"
   ]
  },
  {
   "cell_type": "code",
   "execution_count": 24,
   "id": "0699b76a-3d13-4b6d-932b-2a5288f97e82",
   "metadata": {
    "tags": []
   },
   "outputs": [],
   "source": [
    "passwords = password_content + password_dup_content"
   ]
  },
  {
   "cell_type": "code",
   "execution_count": null,
   "id": "5d83554e-4770-4568-9963-164f9a1089c7",
   "metadata": {
    "tags": []
   },
   "outputs": [],
   "source": [
    "passwords"
   ]
  },
  {
   "cell_type": "markdown",
   "id": "995aaae1-2e3d-4c68-80d6-523947190242",
   "metadata": {},
   "source": [
    "## 2.1 Preprocess"
   ]
  },
  {
   "cell_type": "code",
   "execution_count": 39,
   "id": "03c2b0cf-786b-4ce8-9fce-9183765f5db4",
   "metadata": {
    "tags": []
   },
   "outputs": [],
   "source": [
    "from tensorflow.keras.layers import TextVectorization"
   ]
  },
  {
   "cell_type": "code",
   "execution_count": 40,
   "id": "568f4403-c076-4aae-802b-4f587c10ac5c",
   "metadata": {
    "tags": []
   },
   "outputs": [],
   "source": [
    "MAX_FEATURES = 200_000"
   ]
  },
  {
   "cell_type": "code",
   "execution_count": 41,
   "id": "6f9e7d77-3e92-43d6-adb4-3971674eea88",
   "metadata": {
    "tags": []
   },
   "outputs": [],
   "source": [
    "vectorizer = TextVectorization(max_tokens=MAX_FEATURES, \n",
    "                               output_mode='int', \n",
    "                               output_sequence_length=1000)"
   ]
  },
  {
   "cell_type": "code",
   "execution_count": null,
   "id": "f0707342-2c67-4ac4-8881-aada1ad93de3",
   "metadata": {
    "tags": []
   },
   "outputs": [],
   "source": [
    "vectorizer.adapt(passwords)"
   ]
  },
  {
   "cell_type": "code",
   "execution_count": null,
   "id": "642b6b5b-4333-49de-86a9-9acfea113680",
   "metadata": {
    "tags": []
   },
   "outputs": [],
   "source": [
    "vectorizer('password abc-123')[:5]"
   ]
  },
  {
   "cell_type": "code",
   "execution_count": null,
   "id": "681700c8-5c5b-4c2a-a299-c9b0b067460a",
   "metadata": {
    "tags": []
   },
   "outputs": [],
   "source": [
    "vectorized_text = vectorizer(passwords)"
   ]
  },
  {
   "cell_type": "code",
   "execution_count": null,
   "id": "59ac5203-d0d1-4aae-aabc-fc8d969bd463",
   "metadata": {
    "tags": []
   },
   "outputs": [],
   "source": [
    "vectorized_text"
   ]
  },
  {
   "cell_type": "code",
   "execution_count": null,
   "id": "c7b4491f-d38c-4fc8-808f-08c10be1df70",
   "metadata": {
    "tags": []
   },
   "outputs": [],
   "source": [
    "len(passwords)"
   ]
  },
  {
   "cell_type": "code",
   "execution_count": null,
   "id": "f52b8180-fb26-4c64-b734-90b4757791a7",
   "metadata": {
    "tags": []
   },
   "outputs": [],
   "source": [
    "original_dataset = tf.data.Dataset.from_tensor_slices(vectorized_text)\n",
    "cached_dataset = original_dataset.cache()\n",
    "shuffle_dataset = cached_dataset.shuffle(200_000)\n",
    "batched_dataset = shuffle_dataset.batch(32)\n",
    "\n",
    "dataset = batched_dataset.prefetch(16)"
   ]
  },
  {
   "cell_type": "code",
   "execution_count": null,
   "id": "9ae62b8a-8414-4ef6-876c-c701cf680fcc",
   "metadata": {
    "tags": []
   },
   "outputs": [],
   "source": [
    "batch_X = dataset.as_numpy_iterator().next()"
   ]
  },
  {
   "cell_type": "code",
   "execution_count": null,
   "id": "dd256ac8-ab2c-4fc3-9bcb-dcf75db2b15f",
   "metadata": {
    "tags": []
   },
   "outputs": [],
   "source": [
    "percent_90 = int(len(dataset)*.9)\n",
    "percent_70 = int(len(dataset)*.7)\n",
    "percent_20 = int(len(dataset)*.2)\n",
    "percent_10 = int(len(dataset)*.1)"
   ]
  },
  {
   "cell_type": "code",
   "execution_count": null,
   "id": "dad5a704-633d-4153-9198-90011c93c331",
   "metadata": {
    "tags": []
   },
   "outputs": [],
   "source": [
    "train = dataset.take(percent_70)\n",
    "val = dataset.skip(percent_70).take(percent_20)\n",
    "test = dataset.skip(percent_90).take(percent_10)"
   ]
  },
  {
   "cell_type": "code",
   "execution_count": null,
   "id": "cf8c3bc9-aee1-46f1-ad4f-69a7bd06092c",
   "metadata": {
    "tags": []
   },
   "outputs": [],
   "source": [
    "train_generator = train.as_numpy_iterator()"
   ]
  },
  {
   "cell_type": "code",
   "execution_count": null,
   "id": "b06621e7-99e0-4f47-9609-1a53256ca800",
   "metadata": {
    "tags": []
   },
   "outputs": [],
   "source": [
    "train_generator.next()"
   ]
  },
  {
   "cell_type": "code",
   "execution_count": null,
   "id": "ea3a3bbe-bc10-4188-a90b-f9f2992a65e5",
   "metadata": {},
   "outputs": [],
   "source": []
  }
 ],
 "metadata": {
  "kernelspec": {
   "display_name": "py310",
   "language": "python",
   "name": "py310"
  },
  "language_info": {
   "codemirror_mode": {
    "name": "ipython",
    "version": 3
   },
   "file_extension": ".py",
   "mimetype": "text/x-python",
   "name": "python",
   "nbconvert_exporter": "python",
   "pygments_lexer": "ipython3",
   "version": "3.10.13"
  }
 },
 "nbformat": 4,
 "nbformat_minor": 5
}
